{
 "cells": [
  {
   "cell_type": "code",
   "execution_count": 8,
   "metadata": {},
   "outputs": [],
   "source": [
    "import os\n",
    "import comtypes.client\n"
   ]
  },
  {
   "attachments": {},
   "cell_type": "markdown",
   "metadata": {},
   "source": [
    "Steps to access SAP2000 API\n",
    "1. Create an obj from the Helper class\n",
    "2. Query SAP2000 API using the helper class \n",
    "3. Create an object of SAP2000 API using the helper class\n",
    "4. if i want to get already open sap window use get instead of create"
   ]
  },
  {
   "cell_type": "code",
   "execution_count": 44,
   "metadata": {},
   "outputs": [
    {
     "data": {
      "text/plain": [
       "0"
      ]
     },
     "execution_count": 44,
     "metadata": {},
     "output_type": "execute_result"
    }
   ],
   "source": [
    "# create new sap window\n",
    "import comtypes.client\n",
    "\n",
    "# 1. Create a new instance of the Helper class\n",
    "helper = comtypes.client.CreateObject('SAP2000v1.Helper')\n",
    "\n",
    "# 2. Get a strongly-typed reference to the Helper class interface\n",
    "helper = helper.QueryInterface(comtypes.gen.SAP2000v1.cHelper)\n",
    "\n",
    "# 3. Create SapObject\n",
    "sap_object = helper.CreateObjectProgID(\n",
    "                        \"CSI.SAP2000.API.SapObject\")\n",
    "# 4. Start Application\n",
    "sap_object.ApplicationStart()\n",
    "\n",
    "# 5. make app visiable\n",
    "sap_object.Visible = True \n",
    "\n",
    "# 6. get SapModel obj\n",
    "sap_model = sap_object.SapModel\n",
    "\n",
    "# 7. init SapModel\n",
    "sap_model.InitializeNewModel()\n"
   ]
  },
  {
   "cell_type": "code",
   "execution_count": 40,
   "metadata": {},
   "outputs": [],
   "source": [
    "# get active sap window\n",
    "import comtypes.client\n",
    "\n",
    "# 1. Create a new instance of the Helper class\n",
    "helper = comtypes.client.CreateObject('SAP2000v1.Helper')\n",
    "\n",
    "# 2. Get a strongly-typed reference to the Helper class interface\n",
    "helper = helper.QueryInterface(comtypes.gen.SAP2000v1.cHelper)\n",
    "\n",
    "# 3. Get the active SapObject\n",
    "sap_object = helper.GetObject(\"CSI.SAP2000.API.SapObject\")\n",
    "\n",
    "# 4. Get the active SapModel\n",
    "sap_model = sap_object.SapModel\n"
   ]
  },
  {
   "cell_type": "code",
   "execution_count": 42,
   "metadata": {},
   "outputs": [
    {
     "data": {
      "text/plain": [
       "0"
      ]
     },
     "execution_count": 42,
     "metadata": {},
     "output_type": "execute_result"
    }
   ],
   "source": [
    "sap_model.File.NewBlank()"
   ]
  },
  {
   "cell_type": "code",
   "execution_count": 45,
   "metadata": {},
   "outputs": [
    {
     "data": {
      "text/plain": [
       "0"
      ]
     },
     "execution_count": 45,
     "metadata": {},
     "output_type": "execute_result"
    }
   ],
   "source": [
    "sap_model.File.Save(\"New blank model\")"
   ]
  },
  {
   "cell_type": "code",
   "execution_count": null,
   "metadata": {},
   "outputs": [],
   "source": []
  }
 ],
 "metadata": {
  "kernelspec": {
   "display_name": "base",
   "language": "python",
   "name": "python3"
  },
  "language_info": {
   "codemirror_mode": {
    "name": "ipython",
    "version": 3
   },
   "file_extension": ".py",
   "mimetype": "text/x-python",
   "name": "python",
   "nbconvert_exporter": "python",
   "pygments_lexer": "ipython3",
   "version": "3.8.8"
  },
  "orig_nbformat": 4,
  "vscode": {
   "interpreter": {
    "hash": "5436bd6370026a4580e1e33968571bc56269996e16448050119e425315c243d6"
   }
  }
 },
 "nbformat": 4,
 "nbformat_minor": 2
}
